{
 "cells": [
  {
   "cell_type": "code",
   "execution_count": 1,
   "metadata": {},
   "outputs": [],
   "source": [
    "import pandas as pd\n",
    "import numpy as np\n",
    "import ast\n",
    "import datetime"
   ]
  },
  {
   "cell_type": "code",
   "execution_count": 2,
   "metadata": {},
   "outputs": [],
   "source": [
    "df = pd.read_csv(\"Boder_languages_per_line_final1.csv\")"
   ]
  },
  {
   "cell_type": "code",
   "execution_count": 3,
   "metadata": {},
   "outputs": [],
   "source": [
    "# strange: things are not in list, but in str...\n",
    "# have to resplit\n",
    "df.german = df.german.apply(lambda x: ast.literal_eval(x))\n",
    "df.french = df.french.apply(lambda x: ast.literal_eval(x))\n",
    "df.english = df.english.apply(lambda x: ast.literal_eval(x))\n",
    "df.spanish = df.spanish.apply(lambda x: ast.literal_eval(x))\n",
    "df.polish = df.polish.apply(lambda x: ast.literal_eval(x))\n",
    "df.russian = df.russian.apply(lambda x: ast.literal_eval(x))\n",
    "df.lithuanian = df.lithuanian.apply(lambda x: ast.literal_eval(x))\n",
    "df.yiddish = df.yiddish.apply(lambda x: ast.literal_eval(x))\n",
    "df.others = df.others.apply(lambda x: ast.literal_eval(x))"
   ]
  },
  {
   "cell_type": "code",
   "execution_count": 4,
   "metadata": {},
   "outputs": [],
   "source": [
    "# make all the time points in a single column\n",
    "df[\"times\"]=df.german+df.french+df.english+df.spanish+df.polish+df.russian+df.lithuanian+df.yiddish+df.others"
   ]
  },
  {
   "cell_type": "code",
   "execution_count": 5,
   "metadata": {},
   "outputs": [],
   "source": [
    "df.times=df.times.apply(lambda x: sorted(x))"
   ]
  },
  {
   "cell_type": "code",
   "execution_count": 6,
   "metadata": {},
   "outputs": [],
   "source": [
    "# start should be every time point except for the last\n",
    "# end should be every time point except for the first\n",
    "# length should be end-start\n",
    "# need to change back to get time_delta for now\n",
    "\n",
    "# start excludes the last point\n",
    "df[\"start_points\"]=df.times.apply(lambda x: x[:-1])\n",
    "\n",
    "# end excludes the first point\n",
    "df[\"end_points\"]=df.times.apply(lambda x: x[1:])\n",
    "\n",
    "# length is end - start\n",
    "time_length_list=[]\n",
    "for i in range(len(df)):\n",
    "    time_length_list.append([b_i - a_i for a_i, b_i in zip(df.start_points[i], df.end_points[i])])\n",
    "df[\"time_length\"]=time_length_list"
   ]
  },
  {
   "cell_type": "code",
   "execution_count": 7,
   "metadata": {},
   "outputs": [],
   "source": [
    "# change to datetime\n",
    "# try format xx:xx:xx\n",
    "# helper function\n",
    "# change a list to datetime\n",
    "# change seconds into whole seconds\n",
    "def to_datetime (a):\n",
    "    b = [] # output\n",
    "    for i in a:\n",
    "        b.append(str(datetime.timedelta(seconds=i)))\n",
    "    return b"
   ]
  },
  {
   "cell_type": "code",
   "execution_count": 8,
   "metadata": {},
   "outputs": [],
   "source": [
    "df.german = df.german.apply(lambda x: to_datetime(x))\n",
    "df.french = df.french.apply(lambda x: to_datetime(x))\n",
    "df.english = df.english.apply(lambda x: to_datetime(x))\n",
    "df.spanish = df.spanish.apply(lambda x: to_datetime(x))\n",
    "df.polish = df.polish.apply(lambda x: to_datetime(x))\n",
    "df.russian = df.russian.apply(lambda x: to_datetime(x))\n",
    "df.lithuanian = df.lithuanian.apply(lambda x: to_datetime(x))\n",
    "df.yiddish = df.yiddish.apply(lambda x: to_datetime(x))\n",
    "df.others = df.others.apply(lambda x: to_datetime(x))\n",
    "df.times = df.times.apply(lambda x: to_datetime(x))\n",
    "df.start_points = df.start_points.apply(lambda x: to_datetime(x))\n",
    "df.end_points = df.end_points.apply(lambda x: to_datetime(x))"
   ]
  },
  {
   "cell_type": "code",
   "execution_count": 9,
   "metadata": {},
   "outputs": [],
   "source": [
    "### make data tidy\n",
    "# create new df: df1\n",
    "# this df1 is tidy for Tableau\n",
    "df1 = pd.DataFrame(columns=[\"id\",\"language\",\"start\",\"end\",\"length\"])"
   ]
  },
  {
   "cell_type": "code",
   "execution_count": 10,
   "metadata": {},
   "outputs": [],
   "source": [
    "# lists for df1\n",
    "# excpet for language\n",
    "i_start_points=[]\n",
    "i_end_points=[]\n",
    "i_time_length=[]\n",
    "i_id=[]\n",
    "for i in range(len(df)):\n",
    "    i_start_points+=df.start_points[i]\n",
    "    i_id+=[df.id[i]]*len(df.start_points[i])\n",
    "    i_end_points+=df.end_points[i]\n",
    "    i_time_length+=df.time_length[i]"
   ]
  },
  {
   "cell_type": "code",
   "execution_count": 11,
   "metadata": {},
   "outputs": [],
   "source": [
    "# copy lists to df1\n",
    "df1.id = i_id\n",
    "df1.start = i_start_points\n",
    "df1.end = i_end_points\n",
    "df1.length = i_time_length"
   ]
  },
  {
   "cell_type": "code",
   "execution_count": 12,
   "metadata": {},
   "outputs": [],
   "source": [
    "# write inside of df is the best choice\n",
    "# new column called languages\n",
    "df[\"languages\"]=[[]]*len(df)"
   ]
  },
  {
   "cell_type": "code",
   "execution_count": 13,
   "metadata": {},
   "outputs": [],
   "source": [
    "list_full = []\n",
    "for i in range(len(df)):\n",
    "    for j in df.start_points[i]:\n",
    "        for k in [\"german\", \"french\", \"english\", \"spanish\", \"polish\", \"russian\", \"lithuanian\", \"yiddish\", \"others\"]:\n",
    "            if j in df[k][i]:\n",
    "                list_full.append(k)"
   ]
  },
  {
   "cell_type": "code",
   "execution_count": 14,
   "metadata": {},
   "outputs": [],
   "source": [
    "df1.language = list_full"
   ]
  },
  {
   "cell_type": "code",
   "execution_count": 15,
   "metadata": {},
   "outputs": [],
   "source": [
    "df1.to_csv(\"Boder_languages_per_line_final_preprocessed.csv\")"
   ]
  }
 ],
 "metadata": {
  "kernelspec": {
   "display_name": "Python 3",
   "language": "python",
   "name": "python3"
  },
  "language_info": {
   "codemirror_mode": {
    "name": "ipython",
    "version": 3
   },
   "file_extension": ".py",
   "mimetype": "text/x-python",
   "name": "python",
   "nbconvert_exporter": "python",
   "pygments_lexer": "ipython3",
   "version": "3.6.4"
  }
 },
 "nbformat": 4,
 "nbformat_minor": 2
}
